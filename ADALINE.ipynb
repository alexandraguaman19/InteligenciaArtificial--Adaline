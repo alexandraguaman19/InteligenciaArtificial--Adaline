{
 "cells": [
  {
   "cell_type": "markdown",
   "metadata": {},
   "source": [
    "## <center> ADALINE</center>\n",
    "### <center> INTELIGENCIA ARTIFICIAL II</center>\n",
    "\n",
    "**Nombre:** Alexandra Guamán"
   ]
  },
  {
   "cell_type": "markdown",
   "metadata": {},
   "source": [
    "**Historia:** La Red Adaline fue desarrollada en el 1960 por Bernard Widrow y su estudiante Marcian Hoff de la universidad de Stanford.\n",
    "ADALINE proviene de Adaptive Lineal Element (Elemento Lineal Adaptativo), pero antes de que se le diera este nombre esta red sufrió un cambio ya  que primeramente se llamaba Adaptive Lineal Neuron (Neurona Linear Adaptiva), dicho cambio se dio por que la Red Adaline es un dispositivo que consta de un único elemento de procesamiento, como tal no es técnicamente considerada una red neuronal.\n",
    "Adaline fue desarrollada para el reconocimiento de patrones binarios, por ejemplo predecir el siguiente bit en una línea telefónica.\n"
   ]
  },
  {
   "cell_type": "markdown",
   "metadata": {},
   "source": [
    "La Red Adaline tiene una diferencia significativa  con relación al Perceptrón ya que esta emplea  una regla de aprendizaje más fuerte que la del perceptrón que es la llamada regla LMS (Least Mean Square) mínimo cuadrado medio.\n",
    "El perceptrón se basa en diferenciar de una clase de otra, separa por decirlo así manzana de peras ,personas altas de bajas por decir un ejemplo , en cambio una red Adaline tiene una salida lineal y toma valores continuos que pueden ir de valores negativos hasta positivos.\n"
   ]
  },
  {
   "cell_type": "markdown",
   "metadata": {},
   "source": [
    "**Caracteristicas**"
   ]
  },
  {
   "cell_type": "markdown",
   "metadata": {},
   "source": [
    "- Es un tipo de aprendizaje off Line\n",
    "- Se enmarca dentro del tipo de aprendizaje por correción e error.\n",
    "- Se utiliza para entrenar un Elemento Simple de Procesado con una función de trasferencia lineal.\n",
    "- Se le conoce también con el nombre de Regra de Widrow-Hoff\n",
    "- Se puede combinar un cierto numero de Petrones en la capa de salida(estructura con cierto grado de complejidad).La regla se aplica sobre cada uno de los petrones de manera individual.\n",
    "- Su funcion de trasferencia es lineal\n",
    "- Procesamiento de información analógica, tanto de entrada como de salida utilizando la función de activación lineal o sigmoidal.\n"
   ]
  },
  {
   "cell_type": "markdown",
   "metadata": {},
   "source": [
    "**Arquitectura**"
   ]
  },
  {
   "cell_type": "markdown",
   "metadata": {},
   "source": [
    "<img src=\"ARQUITECTURAADALINE.png\">"
   ]
  },
  {
   "cell_type": "markdown",
   "metadata": {},
   "source": [
    "**Regla de aprendizaje de minimos cuadrados**"
   ]
  },
  {
   "cell_type": "markdown",
   "metadata": {},
   "source": [
    "- Se conoce como regla delta \n",
    "- Utiliza un metodo de optimización (minimización) llamada Gradiente Descendiente que permite dervar de forma       sistemática reglas de aprendizaje para arquitecturas concretas."
   ]
  },
  {
   "cell_type": "markdown",
   "metadata": {},
   "source": [
    "**<center>Función Neta</center>**"
   ]
  },
  {
   "cell_type": "markdown",
   "metadata": {},
   "source": [
    "<center>${y}={w_0+{\\sum_{i=1}^n}{w_j}{x_j}}$</center>"
   ]
  },
  {
   "cell_type": "markdown",
   "metadata": {},
   "source": [
    "**Proceso de Aprendizaje**"
   ]
  },
  {
   "cell_type": "markdown",
   "metadata": {},
   "source": [
    "**Paso 1** Inicializar los pesos y umbral de forma aleatoria.\n",
    "\n",
    "**Paso 2** Presentar un patron de entrada.\n",
    "<center>${X}={(x_1,x_2,x_3,...x_n)}$</center>\n",
    "\n",
    "**Paso 3** Calcular la salida, comparar con la deseada y obtener la diferencia.\n",
    "<center>${y}={w_1(x_1)+w_2(x_2)+w_3(x_3)}$</center>\n",
    "\n",
    "**Paso 4** Comparar con la salida esperada  \n",
    "<center>${e}={d_p-y_p}$</center>\n",
    "\n",
    "**Paso 5** Calcular la actualización pesos\n",
    "<center>${w(t+1)}={w_j+ αex_j}$</center>\n",
    "\n",
    "**Paso 6** Repetir de 1 a 5 hasta acabar con todos los patrones de entrada\n",
    "           = Completar un ciclo de aprendizaje"
   ]
  },
  {
   "cell_type": "markdown",
   "metadata": {},
   "source": [
    "**<center>Criterios de Parada</center>**\n",
    "\n",
    "**Criterio 1:** Fijar un número de ciclos máximo. Dicho número debe garantizar que el error cuadrático para los patrones de entrenamiento se haya estabilizado.\n",
    "\n",
    "**Criterio 2:** Cuando el error cuadrático sobre los patrones de entrenamiento no cambia durante x ciclos.\n",
    "\n",
    "**Criterio 3:** Cuando el error cuadrático sobre los patrones de validación no aumenta o se mantiene estable a lo largo de x ciclos."
   ]
  },
  {
   "cell_type": "markdown",
   "metadata": {},
   "source": [
    "## **Ejemplo de Calculo**"
   ]
  },
  {
   "cell_type": "markdown",
   "metadata": {},
   "source": [
    "<img src=\"1.png\">"
   ]
  },
  {
   "cell_type": "markdown",
   "metadata": {},
   "source": [
    "**Calcular la salida** \n",
    "<center>${y}={w_1(x_1)+w_2(x_2)+w_3(x_3)}$</center>\n",
    "<center>${y}={0.7(0)+0.9(0)+0.6(1)=0.6}$</center>\n",
    "\n",
    "**Comparar con la salida esperada**\n",
    "<center>${e}={d_p-y_p}$</center>\n",
    "<center>${e}={1-0.6=0.4}$</center>\n",
    "\n",
    "**Modificación de pesos**\n",
    "\n",
    "<center>${w_1}={w_1+ αex_1}$</center>\n",
    "<center>${w_2}={w_2+ αex_2}$</center>\n",
    "<center>${w_3}={w_3+ αex_3}$</center>\n",
    "\n",
    "**Reemplazamos**\n",
    "\n",
    "<center>${w_1}={0.7+ 0.5(0.4)(0)=0.7}$</center>\n",
    "<center>${w_2}={0.9+ 0.5(0.4)(0)=0.9}$</center>\n",
    "<center>${w_3}={0.6+ 0.5(0.4)(1)=0.8}$</center>"
   ]
  },
  {
   "cell_type": "markdown",
   "metadata": {},
   "source": [
    "<img src=\"2.png\">\n"
   ]
  },
  {
   "cell_type": "markdown",
   "metadata": {},
   "source": [
    "**Calcular la salida** \n",
    "<center>${y}={w_1(x_1)+w_2(x_2)+w_3(x_3)}$</center>\n",
    "<center>${y}={0.7(0)+0.9(1)+0.8(0)=0.9}$</center>\n",
    "\n",
    "**Comparar con la salida esperada**\n",
    "<center>${e}={d_p-y_p}$</center>\n",
    "<center>${e}={2-0.9=1,1}$</center>\n",
    "\n",
    "**Modificación de pesos**\n",
    "\n",
    "<center>${w_1}={w_1+ αex_1}$</center>\n",
    "<center>${w_2}={w_2+ αex_2}$</center>\n",
    "<center>${w_3}={w_3+ αex_3}$</center>\n",
    "\n",
    "**Reemplazamos**\n",
    "\n",
    "<center>${w_1}={0.7+ 0.5(1.1)(0)=0.7}$</center>\n",
    "<center>${w_2}={0.9+ 0.5(1.1)(1)=1.45}$</center>\n",
    "<center>${w_3}={0.6+ 0.5(1.1)(0)=0.8}$</center>"
   ]
  },
  {
   "cell_type": "markdown",
   "metadata": {},
   "source": [
    "<center><img src=\"3.png\"width=\"500> <div> style=\"text-alingn:right\":Por:A.Guaman</div></center>"
   ]
  },
  {
   "cell_type": "markdown",
   "metadata": {},
   "source": [
    "**Calcular la salida** \n",
    "<center>${y}={w_1(x_1)+w_2(x_2)+w_3(x_3)}$</center>\n",
    "<center>${y}={0.7(0)+1.45(1)+0.8(1)=2.25}$</center>\n",
    "\n",
    "**Comparar con la salida esperada**\n",
    "<center>${e}={d_p-y_p}$</center>\n",
    "<center>${e}={3-2.25=0.75}$</center>\n",
    "\n",
    "**Modificación de pesos**\n",
    "\n",
    "<center>${w_1}={w_1+ αex_1}$</center>\n",
    "<center>${w_2}={w_2+ αex_2}$</center>\n",
    "<center>${w_3}={w_3+ αex_3}$</center>\n",
    "\n",
    "**Reemplazamos**\n",
    "\n",
    "<center>${w_1}={0.7+ 0.5(0.75)(0)=0.7}$</center>\n",
    "<center>${w_2}={0.9+ 0.5(0.75)(1)=1.825}$</center>\n",
    "<center>${w_3}={0.6+ 0.5(0.75)(1)=1.175}$</center>"
   ]
  },
  {
   "cell_type": "markdown",
   "metadata": {},
   "source": [
    "<center><img src=\"4.png\" width=\"500\"></center>"
   ]
  },
  {
   "cell_type": "markdown",
   "metadata": {},
   "source": [
    "**Calcular la salida** \n",
    "<center>${y}={w_1(x_1)+w_2(x_2)+w_3(x_3)}$</center>\n",
    "<center>${y}={0.7(1)+1.825(0)+1.175(1)=0.7}$</center>\n",
    "\n",
    "**Comparar con la salida esperada**\n",
    "<center>${e}={d_p-y_p}$</center>\n",
    "<center>${e}={4-0.7=3.3}$</center>\n",
    "\n",
    "**Modificación de pesos**\n",
    "\n",
    "<center>${w_1}={w_1+ αex_1}$</center>\n",
    "<center>${w_2}={w_2+ αex_2}$</center>\n",
    "<center>${w_3}={w_3+ αex_3}$</center>\n",
    "\n",
    "**Reemplazamos**\n",
    "\n",
    "<center>${w_1}={0.7+ 0.5(3.+𝑤33)(1)=2.35}$</center>\n",
    "<center>${w_2}={1.825+ 0.5(3.3)(0)=1.825}$</center>\n",
    "<center>${w_3}={1.175+ 0.5(3.3)(0)=1.175}$</center>"
   ]
  },
  {
   "cell_type": "markdown",
   "metadata": {},
   "source": [
    "<center><img src=\"5.png\"width=500></center>"
   ]
  },
  {
   "cell_type": "markdown",
   "metadata": {},
   "source": [
    "**Calcular la salida** \n",
    "<center>${y}={w_1(x_1)+w_2(x_2)+w_3(x_3)}$</center>\n",
    "<center>${y}={2.35(1)+1.825(0)+1.175(1)=3.525}$</center>\n",
    "\n",
    "**Comparar con la salida esperada**\n",
    "<center>${e}={d_p-y_p}$</center>\n",
    "<center>${e}={5-3.525=1.475}$</center>\n",
    "\n",
    "**Modificación de pesos**\n",
    "\n",
    "<center>${w_1}={w_1+ αex_1}$</center>\n",
    "<center>${w_2}={w_2+ αex_2}$</center>\n",
    "<center>${w_3}={w_3+ αex_3}$</center>\n",
    "\n",
    "**Reemplazamos**\n",
    "\n",
    "<center>${w_1}={2.35+ 0.5(1.475)(1)=3.085}$</center>\n",
    "<center>${w_2}={1.825+ 0.5(1.475)(0)=1.825}$</center>\n",
    "<center>${w_3}={1.175+ 0.5(1.475)(1)=1.91}$</center>"
   ]
  },
  {
   "cell_type": "markdown",
   "metadata": {},
   "source": [
    "<center><img src=\"6.png\"></center>"
   ]
  },
  {
   "cell_type": "markdown",
   "metadata": {},
   "source": [
    "**Calcular la salida** \n",
    "<center>${y}={w_1(x_1)+w_2(x_2)+w_3(x_3)}$</center>\n",
    "<center>${y}={3.085(1)+1.825(0)+1.91(0)=4.91}$</center>\n",
    "\n",
    "**Comparar con la salida esperada**\n",
    "<center>${e}={d_p-y_p}$</center>\n",
    "<center>${e}={6-4.91=1.09}$</center>\n",
    "\n",
    "**Modificación de pesos**\n",
    "\n",
    "<center>${w_1}={w_1+ αex_1}$</center>\n",
    "<center>${w_2}={w_2+ αex_2}$</center>\n",
    "<center>${w_3}={w_3+ αex_3}$</center>\n",
    "\n",
    "**Reemplazamos**\n",
    "\n",
    "<center>${w_1}={3.085+ 0.5(1.09)(1)=3.63}$</center>\n",
    "<center>${w_2}={1.825+ 0.5(1.09)(1)=2.37}$</center>\n",
    "<center>${w_3}={1.91+ 0.5(1.09)(0)=1.91}$</center>"
   ]
  },
  {
   "cell_type": "markdown",
   "metadata": {},
   "source": [
    "<center><img src=\"7.png\"width=500></center>"
   ]
  },
  {
   "cell_type": "markdown",
   "metadata": {},
   "source": [
    "**Calcular la salida** \n",
    "<center>${y}={w_1(x_1)+w_2(x_2)+w_3(x_3)}$</center>\n",
    "<center>${y}={3.63(1)+2.37(0)+1.91(1)=7.91}$</center>\n",
    "\n",
    "**Comparar con la salida esperada**\n",
    "<center>${e}={d_p-y_p}$</center>\n",
    "<center>${e}={7-9.91=-0.91}$</center>\n",
    "\n",
    "**Modificación de pesos**\n",
    "\n",
    "<center>${w_1}={w_1+ αex_1}$</center>\n",
    "<center>${w_2}={w_2+ αex_2}$</center>\n",
    "<center>${w_3}={w_3+ αex_3}$</center>\n",
    "\n",
    "**Reemplazamos**\n",
    "\n",
    "<center>${w_1}={3.63+ 0.5(-0.91)(1)=3.175}$</center>\n",
    "<center>${w_2}={2.37+ 0.5(-0.91)(1)=1.91}$</center>\n",
    "<center>${w_3}={1.91+ 0.5(-0.91)(1)=1.45}$</center>"
   ]
  },
  {
   "cell_type": "markdown",
   "metadata": {},
   "source": [
    "<center><img src=\"8.png\"width=400></center>"
   ]
  },
  {
   "cell_type": "markdown",
   "metadata": {},
   "source": [
    "### **<center>Algoritmo ADALINE en python</center>**"
   ]
  },
  {
   "cell_type": "code",
   "execution_count": 7,
   "metadata": {},
   "outputs": [
    {
     "name": "stdout",
     "output_type": "stream",
     "text": [
      "Random Weights before training [0.7 0.9 0.6]\n",
      "Pesos Actualizados: 3.18   1.91 1.46 Error [-0.9125]\n",
      "Pesos Actualizados: 3.79   1.93 1.14 Error [-0.27421875]\n",
      "Pesos Actualizados: 3.95   1.97 1.04 Error [-0.07719727]\n",
      "Pesos Actualizados: 3.99   1.99 1.01 Error [-0.0209198]\n",
      "Pesos Actualizados: 4.0   2.0 1.0 Error [-0.00553379]\n",
      "Pesos Actualizados: 4.0   2.0 1.0 Error [-0.00144042]\n",
      "Pesos Actualizados: 4.0   2.0 1.0 Error [-0.00037079]\n",
      "Pesos Actualizados: 4.0   2.0 1.0 Error [-9.46994405e-05]\n",
      "Pesos Actualizados: 4.0   2.0 1.0 Error [-2.40503956e-05]\n",
      "Pesos Actualizados: 4.0   2.0 1.0 Error [-6.08301179e-06]\n",
      "Pesos Actualizados: 4.0   2.0 1.0 Error [-1.53395537e-06]\n",
      "New Weights after training [3.99999921 1.99999925 1.00000077]\n"
     ]
    },
    {
     "data": {
      "image/png": "[encoded data removed]",
      "text/plain": [
       "<Figure size 432x288 with 1 Axes>"
      ]
     },
     "metadata": {
      "needs_background": "light"
     },
     "output_type": "display_data"
    }
   ],
   "source": [
    "\n",
    "import numpy as np\n",
    "import matplotlib.pyplot as plt\n",
    "import math\n",
    "\n",
    "LEARNING_RATE = 0.5\n",
    "\n",
    "def step(x):\n",
    "    if (x > 0):\n",
    "        return 1\n",
    "    else:\n",
    "        return -1;\n",
    "    \n",
    "\n",
    "INPUTS = np.array([[0,0,1],\n",
    "                   [0,1,0],\n",
    "                   [0,1,1],\n",
    "                   [1,0,0],\n",
    "                   [1,0,1],\n",
    "                   [1,1,0],\n",
    "                   [1,1,1]\n",
    "                    ])       \n",
    "OUTPUTS = np.array([[1,2,3,4,5,6,7]]).T\n",
    "\n",
    "np.random.seed(1)\n",
    "\n",
    "WEIGHTS = np.array([0.7,0.9,0.6])\n",
    "print (\"Random Weights before training\", WEIGHTS)\n",
    "\n",
    "errors=[]\n",
    "\n",
    "for i in range(11):\n",
    "\n",
    "    for fila in range(7):\n",
    "        \n",
    "        ADALINE_OUTPUT = (INPUTS[fila][0]*WEIGHTS[0]) + (INPUTS[fila][1]*WEIGHTS[1]) + (INPUTS[fila][2]*WEIGHTS[2])\n",
    "        ERROR = OUTPUTS[fila]- ADALINE_OUTPUT\n",
    "        #print(\"Error\",ERROR)\n",
    "        \n",
    "        errors.append(ERROR)\n",
    "        WEIGHTS[0] = WEIGHTS[0] + LEARNING_RATE * ERROR * INPUTS[fila][0]\n",
    "        WEIGHTS[1] = WEIGHTS[1] + LEARNING_RATE * ERROR * INPUTS[fila][1]\n",
    "        WEIGHTS[2] = WEIGHTS[2] + LEARNING_RATE * ERROR * INPUTS[fila][2]\n",
    "    \n",
    "    print (\"Pesos Actualizados:\",round(WEIGHTS[0],2),\" \",round(WEIGHTS[1],2),round(WEIGHTS[2],2),\"Error\",ERROR)\n",
    "    \n",
    "print (\"New Weights after training\", WEIGHTS)\n",
    "\n",
    "ax = plt.subplot(111)\n",
    "ax.plot(errors, c='#aaaaff', label='Training Errors')\n",
    "ax.set_xscale(\"log\")\n",
    "plt.title(\"ADALINE \")\n",
    "plt.legend()\n",
    "plt.xlabel('Error')\n",
    "plt.ylabel('Value')\n",
    "plt.show()"
   ]
  },
  {
   "cell_type": "markdown",
   "metadata": {},
   "source": [
    "**Conclusiones**\n",
    "\n",
    "La Red Adaline es un mecanismo físico capaz de realizar aprendizaje es un elemento Combinador Adaptativo, recibe un conjunto de entradas y las combina para producir una salida entonces ADALINE es un modelo de aprendizaje.\n",
    "Las redes Adaline se basan en el objetivo de evaluar  de la forma más  correcta la salida, para de esta manera poder minimizar el error medio cuadrático, por tanto son muy similares al Perceptrón, lo único en lo que cambian es la transferencia en la salida."
   ]
  },
  {
   "cell_type": "markdown",
   "metadata": {},
   "source": [
    "**REFERENCIAS**"
   ]
  },
  {
   "cell_type": "markdown",
   "metadata": {},
   "source": [
    "Specht, D. F. (1990). Probabilistic neural networks and the polynomial adaline as complementary techniques for classification. IEEE Transactions on Neural Networks, 1(1), 111-121.\n",
    "\n",
    "Abdeslam, D. O., Wira, P., Mercklé, J., Flieller, D., & Chapuis, Y. A. (2007). A unified artificial neural network architecture for active power filters. IEEE Transactions on Industrial Electronics, 54(1), 61-76."
   ]
  }
 ],
 "metadata": {
  "kernelspec": {
   "display_name": "python 3.7-inteligencia",
   "language": "python",
   "name": "simulation"
  },
  "language_info": {
   "codemirror_mode": {
    "name": "ipython",
    "version": 3
   },
   "file_extension": ".py",
   "mimetype": "text/x-python",
   "name": "python",
   "nbconvert_exporter": "python",
   "pygments_lexer": "ipython3",
   "version": "3.7.3"
  }
 },
 "nbformat": 4,
 "nbformat_minor": 2
}
